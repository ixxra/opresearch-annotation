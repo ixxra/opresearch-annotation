{
 "metadata": {
  "name": "",
  "signature": "sha256:b101c5bb3b885401eb990adf6a3c89d48ad0ff39d4bb24eabb27f98d9de7dc58"
 },
 "nbformat": 3,
 "nbformat_minor": 0,
 "worksheets": [
  {
   "cells": [
    {
     "cell_type": "heading",
     "level": 1,
     "metadata": {},
     "source": [
      "Combinatorial approach to linear problems"
     ]
    },
    {
     "cell_type": "markdown",
     "metadata": {},
     "source": [
      "We are seeking to solve a linear optimization problem:\n",
      "\n",
      "$$\n",
      "\\max \\sum_{k = 1}^n a_k x_k\n",
      "$$\n",
      "\n",
      "subject to linear constraints of some of the following types:\n",
      "\n",
      "$$\n",
      "\\begin{aligned}\n",
      "\\sum_k c_k x_k &\\leq b_k, & \\sum_k c_k x_k &\\geq b_k, & \\sum_k c_k x_k &= b_k,\n",
      "\\end{aligned}\n",
      "$$\n",
      "\n",
      "and $x_k \\geq 0$. In order to solve this problem, we have to convert each inequality into a equation. So, the first two types of constraints can be turned into equations by adding or substracting a positive constant:\n",
      "\n",
      "$$\n",
      "\\begin{aligned}\n",
      "\\sum_k c_k x_k + s_k &= b_k, & \\sum_k c_k x_k - s_k &= b_k, & \\sum_k c_k x_k &= b_k,\n",
      "\\end{aligned}\n",
      "$$\n",
      "\n",
      "$s_k \\geq 0$. We have chosen the variable $s_k$ for historical reasons, as those variables are called *shadow prices* in the literature. \n",
      "\n",
      "Suppose we have *r* restrictions, so that if we express them as equalities in matrix form, we will have a matrix of size at most $(r, n + r)$, depending on how many restrictions are equalities. If we select $r$ columns linearly independent, we can solve the linear system, so that we obtain a solution satisfiying the restrictions, if we make the variables corresponding to the remaining columns equal to zero. \n",
      "\n",
      "A solution $(x_k, s_r)$ calculated this way will be called a **feasible solution** if $x_k, s_r \\geq 0$.\n",
      "\n",
      "Geometrically, this solutions represent corner points in an $n$-dimensional convex set. It can be shown that the maximum of the target function has to be reached in one of those corners.\n",
      "\n",
      "In order to illustrate these concepts, let's solve a bidimensional linear problem.\n",
      "\n",
      "**Objective**\n",
      "\n",
      "$$\n",
      "\\max 5x_1 + 4x_2\n",
      "$$\n",
      "\n",
      "**Restrictions**\n",
      "\n",
      "$$\n",
      "\\begin{aligned}\n",
      "6x_1 + 4x_2 &\\leq 24,\\\\\n",
      "x_1 + 2x_2 &\\leq 6,\\\\\n",
      "-x_1 + x_2 &\\leq 1,\\\\\n",
      "x_2 &\\leq 2,\n",
      "\\end{aligned}\n",
      "$$\n",
      "\n",
      "$x_1, x_2 \\geq 0$.\n",
      "\n",
      "In equation form, our problem's restrictions are:\n",
      "\n",
      "$$\n",
      "\\begin{aligned}\n",
      "6x_1 + 4x_2 + s_1 &=  24,\\\\\n",
      "x_1 + 2x_2 + s_2 &= 6,\\\\\n",
      "-x_1 + x_2 + s_3&= 1,\\\\\n",
      "x_2  + s_4 &= 2,\n",
      "\\end{aligned}\n",
      "$$\n",
      "\n",
      "\n",
      "Let's write these equations with *python*:"
     ]
    },
    {
     "cell_type": "code",
     "collapsed": false,
     "input": [
      "import numpy as np\n",
      "import itertools as it\n",
      "from matplotlib import pyplot as plt\n",
      "\n",
      "A = np.array([\n",
      "    [ 6, 4, 1, 0, 0, 0],\n",
      "    [ 1, 2, 0, 1, 0, 0],\n",
      "    [-1, 1, 0, 0, 1, 0],\n",
      "    [ 0, 1, 0, 0, 0, 1]\n",
      "])\n",
      "\n",
      "b = [24, 6, 1, 2]\n",
      "\n",
      "print A\n",
      "\n",
      "print b"
     ],
     "language": "python",
     "metadata": {},
     "outputs": [
      {
       "output_type": "stream",
       "stream": "stdout",
       "text": [
        "[[ 6  4  1  0  0  0]\n",
        " [ 1  2  0  1  0  0]\n",
        " [-1  1  0  0  1  0]\n",
        " [ 0  1  0  0  0  1]]\n",
        "[24, 6, 1, 2]\n"
       ]
      }
     ],
     "prompt_number": 39
    },
    {
     "cell_type": "markdown",
     "metadata": {},
     "source": [
      "There are 15 ways to group the columns of the coeficients matrix. We can calculate them with *itertools*:"
     ]
    },
    {
     "cell_type": "code",
     "collapsed": false,
     "input": [
      "combs = list(it.combinations(range(6), 4))\n",
      "print combs"
     ],
     "language": "python",
     "metadata": {},
     "outputs": [
      {
       "output_type": "stream",
       "stream": "stdout",
       "text": [
        "[(0, 1, 2, 3), (0, 1, 2, 4), (0, 1, 2, 5), (0, 1, 3, 4), (0, 1, 3, 5), (0, 1, 4, 5), (0, 2, 3, 4), (0, 2, 3, 5), (0, 2, 4, 5), (0, 3, 4, 5), (1, 2, 3, 4), (1, 2, 3, 5), (1, 2, 4, 5), (1, 3, 4, 5), (2, 3, 4, 5)]\n"
       ]
      }
     ],
     "prompt_number": 40
    },
    {
     "cell_type": "markdown",
     "metadata": {},
     "source": [
      "We want to calculate all the 15 solutions to the problem. So lets define a matrix of solutions:"
     ]
    },
    {
     "cell_type": "code",
     "collapsed": false,
     "input": [
      "sols = np.zeros((len(combs), 6))"
     ],
     "language": "python",
     "metadata": {},
     "outputs": [],
     "prompt_number": 41
    },
    {
     "cell_type": "code",
     "collapsed": false,
     "input": [
      "for comb in combs:\n",
      "    sol = np.linalg.solve(A[:, comb], b)\n",
      "    sols[:, comb] = sol\n",
      "    \n",
      "print sols"
     ],
     "language": "python",
     "metadata": {},
     "outputs": [
      {
       "ename": "LinAlgError",
       "evalue": "Singular matrix",
       "output_type": "pyerr",
       "traceback": [
        "\u001b[1;31m---------------------------------------------------------------------------\u001b[0m\n\u001b[1;31mLinAlgError\u001b[0m                               Traceback (most recent call last)",
        "\u001b[1;32m<ipython-input-11-5755e2af84d9>\u001b[0m in \u001b[0;36m<module>\u001b[1;34m()\u001b[0m\n\u001b[0;32m      1\u001b[0m \u001b[1;32mfor\u001b[0m \u001b[0mcomb\u001b[0m \u001b[1;32min\u001b[0m \u001b[0mcombs\u001b[0m\u001b[1;33m:\u001b[0m\u001b[1;33m\u001b[0m\u001b[0m\n\u001b[1;32m----> 2\u001b[1;33m     \u001b[0msol\u001b[0m \u001b[1;33m=\u001b[0m \u001b[0mnp\u001b[0m\u001b[1;33m.\u001b[0m\u001b[0mlinalg\u001b[0m\u001b[1;33m.\u001b[0m\u001b[0msolve\u001b[0m\u001b[1;33m(\u001b[0m\u001b[0mA\u001b[0m\u001b[1;33m[\u001b[0m\u001b[1;33m:\u001b[0m\u001b[1;33m,\u001b[0m \u001b[0mcomb\u001b[0m\u001b[1;33m]\u001b[0m\u001b[1;33m,\u001b[0m \u001b[0mb\u001b[0m\u001b[1;33m)\u001b[0m\u001b[1;33m\u001b[0m\u001b[0m\n\u001b[0m\u001b[0;32m      3\u001b[0m     \u001b[0msols\u001b[0m\u001b[1;33m[\u001b[0m\u001b[1;33m:\u001b[0m\u001b[1;33m,\u001b[0m \u001b[0mcomb\u001b[0m\u001b[1;33m]\u001b[0m \u001b[1;33m=\u001b[0m \u001b[0msol\u001b[0m\u001b[1;33m\u001b[0m\u001b[0m\n\u001b[0;32m      4\u001b[0m \u001b[1;33m\u001b[0m\u001b[0m\n\u001b[0;32m      5\u001b[0m \u001b[1;32mprint\u001b[0m \u001b[0msols\u001b[0m\u001b[1;33m\u001b[0m\u001b[0m\n",
        "\u001b[1;32m/home/isra/opt/anaconda/lib/python2.7/site-packages/numpy/linalg/linalg.pyc\u001b[0m in \u001b[0;36msolve\u001b[1;34m(a, b)\u001b[0m\n\u001b[0;32m    379\u001b[0m     \u001b[0msignature\u001b[0m \u001b[1;33m=\u001b[0m \u001b[1;34m'DD->D'\u001b[0m \u001b[1;32mif\u001b[0m \u001b[0misComplexType\u001b[0m\u001b[1;33m(\u001b[0m\u001b[0mt\u001b[0m\u001b[1;33m)\u001b[0m \u001b[1;32melse\u001b[0m \u001b[1;34m'dd->d'\u001b[0m\u001b[1;33m\u001b[0m\u001b[0m\n\u001b[0;32m    380\u001b[0m     \u001b[0mextobj\u001b[0m \u001b[1;33m=\u001b[0m \u001b[0mget_linalg_error_extobj\u001b[0m\u001b[1;33m(\u001b[0m\u001b[0m_raise_linalgerror_singular\u001b[0m\u001b[1;33m)\u001b[0m\u001b[1;33m\u001b[0m\u001b[0m\n\u001b[1;32m--> 381\u001b[1;33m     \u001b[0mr\u001b[0m \u001b[1;33m=\u001b[0m \u001b[0mgufunc\u001b[0m\u001b[1;33m(\u001b[0m\u001b[0ma\u001b[0m\u001b[1;33m,\u001b[0m \u001b[0mb\u001b[0m\u001b[1;33m,\u001b[0m \u001b[0msignature\u001b[0m\u001b[1;33m=\u001b[0m\u001b[0msignature\u001b[0m\u001b[1;33m,\u001b[0m \u001b[0mextobj\u001b[0m\u001b[1;33m=\u001b[0m\u001b[0mextobj\u001b[0m\u001b[1;33m)\u001b[0m\u001b[1;33m\u001b[0m\u001b[0m\n\u001b[0m\u001b[0;32m    382\u001b[0m \u001b[1;33m\u001b[0m\u001b[0m\n\u001b[0;32m    383\u001b[0m     \u001b[1;32mreturn\u001b[0m \u001b[0mwrap\u001b[0m\u001b[1;33m(\u001b[0m\u001b[0mr\u001b[0m\u001b[1;33m.\u001b[0m\u001b[0mastype\u001b[0m\u001b[1;33m(\u001b[0m\u001b[0mresult_t\u001b[0m\u001b[1;33m)\u001b[0m\u001b[1;33m)\u001b[0m\u001b[1;33m\u001b[0m\u001b[0m\n",
        "\u001b[1;32m/home/isra/opt/anaconda/lib/python2.7/site-packages/numpy/linalg/linalg.pyc\u001b[0m in \u001b[0;36m_raise_linalgerror_singular\u001b[1;34m(err, flag)\u001b[0m\n\u001b[0;32m     88\u001b[0m \u001b[1;33m\u001b[0m\u001b[0m\n\u001b[0;32m     89\u001b[0m \u001b[1;32mdef\u001b[0m \u001b[0m_raise_linalgerror_singular\u001b[0m\u001b[1;33m(\u001b[0m\u001b[0merr\u001b[0m\u001b[1;33m,\u001b[0m \u001b[0mflag\u001b[0m\u001b[1;33m)\u001b[0m\u001b[1;33m:\u001b[0m\u001b[1;33m\u001b[0m\u001b[0m\n\u001b[1;32m---> 90\u001b[1;33m     \u001b[1;32mraise\u001b[0m \u001b[0mLinAlgError\u001b[0m\u001b[1;33m(\u001b[0m\u001b[1;34m\"Singular matrix\"\u001b[0m\u001b[1;33m)\u001b[0m\u001b[1;33m\u001b[0m\u001b[0m\n\u001b[0m\u001b[0;32m     91\u001b[0m \u001b[1;33m\u001b[0m\u001b[0m\n\u001b[0;32m     92\u001b[0m \u001b[1;32mdef\u001b[0m \u001b[0m_raise_linalgerror_nonposdef\u001b[0m\u001b[1;33m(\u001b[0m\u001b[0merr\u001b[0m\u001b[1;33m,\u001b[0m \u001b[0mflag\u001b[0m\u001b[1;33m)\u001b[0m\u001b[1;33m:\u001b[0m\u001b[1;33m\u001b[0m\u001b[0m\n",
        "\u001b[1;31mLinAlgError\u001b[0m: Singular matrix"
       ]
      }
     ],
     "prompt_number": 11
    },
    {
     "cell_type": "markdown",
     "metadata": {},
     "source": [
      "The previous error is due to the fact that some of the matrices are singular. To overcome this, we must repeat the previous loop with a *try/except* block:"
     ]
    },
    {
     "cell_type": "code",
     "collapsed": false,
     "input": [
      "for i, comb in enumerate(combs):\n",
      "    try:\n",
      "        sol = np.linalg.solve(A[:, comb], b)\n",
      "        sols[i, comb] = sol\n",
      "    except:\n",
      "        sols[i,:] = np.nan\n",
      "    \n",
      "print sols"
     ],
     "language": "python",
     "metadata": {},
     "outputs": [
      {
       "output_type": "stream",
       "stream": "stdout",
       "text": [
        "[[  1.           2.          10.           1.           0.           0.        ]\n",
        " [  2.           2.           4.           0.           1.           0.        ]\n",
        " [  1.33333333   2.33333333   6.66666667   0.           0.          -0.33333333]\n",
        " [  2.66666667   2.           0.          -0.66666667   1.66666667   0.        ]\n",
        " [  2.           3.           0.          -2.           0.          -1.        ]\n",
        " [  3.           1.5          0.           0.           2.5          0.5       ]\n",
        " [         nan          nan          nan          nan          nan\n",
        "           nan]\n",
        " [ -1.           0.          30.           7.           0.           2.        ]\n",
        " [  6.           0.         -12.           0.           7.           2.        ]\n",
        " [  4.           0.           0.           2.           5.           2.        ]\n",
        " [  0.           2.          16.           2.          -1.           0.        ]\n",
        " [  0.           1.          20.           4.           0.           1.        ]\n",
        " [  0.           3.          12.           0.          -2.          -1.        ]\n",
        " [  0.           6.           0.          -6.          -5.          -4.        ]\n",
        " [  0.           0.          24.           6.           1.           2.        ]]\n"
       ]
      }
     ],
     "prompt_number": 42
    },
    {
     "cell_type": "markdown",
     "metadata": {},
     "source": [
      "We marked the invalid solutions with a *np.nan*, (*nan* stands for *not a number*). Now, we must evaluate each solution in the target or *objective* function. Note that we could define the objective in terms of the variables $x_1, x_2$ only, which are meaningful in the context of the problem, but is easier to define the objective in the whole set of variable, as you soon see: "
     ]
    },
    {
     "cell_type": "code",
     "collapsed": false,
     "input": [
      "def obj(sol):\n",
      "    return np.array([5, 4, 0, 0, 0, 0]).dot(sol)"
     ],
     "language": "python",
     "metadata": {},
     "outputs": [],
     "prompt_number": 43
    },
    {
     "cell_type": "markdown",
     "metadata": {},
     "source": [
      "As each solution is a row vector of size 6, we define the objective as the *dot product* of the solution we obtained times the vector $(5, 4, 0, 0, 0, 0)$. Now, let's calculate the values of the objective function in each of the solutions we have just obtained:"
     ]
    },
    {
     "cell_type": "code",
     "collapsed": false,
     "input": [
      "values = np.zeros((len(combs)))\n",
      "\n",
      "for i, sol in enumerate(sols):\n",
      "    values[i] = obj(sol)\n",
      "    \n",
      "    \n",
      "print values"
     ],
     "language": "python",
     "metadata": {},
     "outputs": [
      {
       "output_type": "stream",
       "stream": "stdout",
       "text": [
        "[ 13.          18.          16.          21.33333333  22.          21.\n",
        "          nan  -5.          30.          20.           8.           4.          12.\n",
        "  24.           0.        ]\n"
       ]
      }
     ],
     "prompt_number": 44
    },
    {
     "cell_type": "markdown",
     "metadata": {},
     "source": [
      "Those are the values in the vertices of a polygon. In theory, the maximum of the objective function should be 39, but there is a glitch here. Because in the solutions matrix there are *unfeasible* solutions, and we have not checked to discard those solutions."
     ]
    },
    {
     "cell_type": "code",
     "collapsed": false,
     "input": [
      "values = np.zeros((len(combs)))\n",
      "\n",
      "for i, sol in enumerate(sols):\n",
      "    if np.any(np.isnan(sol)) or np.any(sol < 0):\n",
      "        values[i] = -np.inf\n",
      "    else:\n",
      "        values[i] = obj(sol)\n",
      "        \n",
      "print values"
     ],
     "language": "python",
     "metadata": {},
     "outputs": [
      {
       "output_type": "stream",
       "stream": "stdout",
       "text": [
        "[ 13.  18. -inf -inf -inf  21. -inf -inf -inf  20. -inf   4. -inf -inf   0.]\n"
       ]
      }
     ],
     "prompt_number": 45
    },
    {
     "cell_type": "markdown",
     "metadata": {},
     "source": [
      "The last block was very elaborated. What *np.isnan* does is to test if each element on the solution array is a *nan*, and then *np.any* tests if *any* of those previous conditions is true. With the same logic, the statement\n",
      "\n",
      "```python\n",
      "np.any(sol < 0)\n",
      "```\n",
      "\n",
      "tests wether *any element in the solution is < 0*. Cool, isn't it.\n",
      "\n",
      "Finnally, we marked any unfeasible or nan solution with a $-\\infty$, as we want to find the maximum of the problem."
     ]
    },
    {
     "cell_type": "code",
     "collapsed": false,
     "input": [
      "max_idx = values.argmax()\n",
      "print sols[max_idx], values[max_idx]"
     ],
     "language": "python",
     "metadata": {},
     "outputs": [
      {
       "output_type": "stream",
       "stream": "stdout",
       "text": [
        "[ 3.   1.5  0.   0.   2.5  0.5] 21.0\n"
       ]
      }
     ],
     "prompt_number": 46
    },
    {
     "cell_type": "markdown",
     "metadata": {},
     "source": [
      "In the last sentence, we found the index of the maximum value in the solution array with the *argmax* command. Therefore, the maximum in the objective function is 21 and it is reached when $x_1 = 3$, $x_2 = 1.5$, as the next graphical image shows\n",
      "\n",
      "<img src=\"img/simplex-example-combinatorics.png\"></img>"
     ]
    },
    {
     "cell_type": "code",
     "collapsed": false,
     "input": [],
     "language": "python",
     "metadata": {},
     "outputs": []
    }
   ],
   "metadata": {}
  }
 ]
}